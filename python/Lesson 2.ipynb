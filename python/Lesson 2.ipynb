{
 "cells": [
  {
   "cell_type": "markdown",
   "metadata": {},
   "source": [
    "# Lesson 2 - Arrays"
   ]
  },
  {
   "cell_type": "markdown",
   "metadata": {},
   "source": [
    "## CyclicRotation\n",
    "Rotate an array to the right by a given number of steps.\n",
    "\n",
    "- https://codility.com/programmers/task/cyclic_rotation/\n",
    "- https://codility.com/demo/results/trainingZ374T7-6KU/ **100%**"
   ]
  },
  {
   "cell_type": "code",
   "execution_count": 1,
   "metadata": {
    "collapsed": true
   },
   "outputs": [],
   "source": [
    "from codility_print import printable"
   ]
  },
  {
   "cell_type": "code",
   "execution_count": 2,
   "metadata": {
    "collapsed": true
   },
   "outputs": [],
   "source": [
    "@printable\n",
    "def solution(A, K):\n",
    "    N = len(A)\n",
    "    if N < 2:\n",
    "        return A\n",
    "    K = K % N\n",
    "    return A[N-K:N] + A[0:N-K]"
   ]
  },
  {
   "cell_type": "code",
   "execution_count": 3,
   "metadata": {
    "collapsed": false
   },
   "outputs": [
    {
     "name": "stdout",
     "output_type": "stream",
     "text": [
      "In:[3, 8, 9, 7, 6], 1 Out:[6, 3, 8, 9, 7]\n",
      "In:[3, 8, 9, 7, 6], 3 Out:[9, 7, 6, 3, 8]\n",
      "In:[3, 8, 9, 7, 6], 0 Out:[3, 8, 9, 7, 6]\n",
      "In:[3, 8, 9, 7, 6], 5 Out:[3, 8, 9, 7, 6]\n",
      "In:[], 8 Out:[]\n",
      "In:[5], 5 Out:[5]\n"
     ]
    },
    {
     "data": {
      "text/plain": [
       "[5]"
      ]
     },
     "execution_count": 3,
     "metadata": {},
     "output_type": "execute_result"
    }
   ],
   "source": [
    "solution([3, 8, 9, 7, 6], 1)\n",
    "solution([3, 8, 9, 7, 6], 3)\n",
    "solution([3, 8, 9, 7, 6], 0)\n",
    "solution([3, 8, 9, 7, 6], 5)\n",
    "solution([], 8)\n",
    "solution([5], 5)"
   ]
  },
  {
   "cell_type": "code",
   "execution_count": null,
   "metadata": {
    "collapsed": true
   },
   "outputs": [],
   "source": []
  }
 ],
 "metadata": {
  "kernelspec": {
   "display_name": "Python 2",
   "language": "python",
   "name": "python2"
  },
  "language_info": {
   "codemirror_mode": {
    "name": "ipython",
    "version": 2
   },
   "file_extension": ".py",
   "mimetype": "text/x-python",
   "name": "python",
   "nbconvert_exporter": "python",
   "pygments_lexer": "ipython2",
   "version": "2.7.11"
  }
 },
 "nbformat": 4,
 "nbformat_minor": 0
}
