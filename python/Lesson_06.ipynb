{
 "cells": [
  {
   "cell_type": "markdown",
   "metadata": {},
   "source": [
    "# Lesson 6 - Sorting\n",
    "https://codility.com/programmers/lessons/4/"
   ]
  },
  {
   "cell_type": "code",
   "execution_count": 1,
   "metadata": {
    "collapsed": true
   },
   "outputs": [],
   "source": [
    "from codility_print import printable"
   ]
  },
  {
   "cell_type": "markdown",
   "metadata": {},
   "source": [
    "## Triangle\n",
    "Determine whether a triangle can be built from a given set of edges.\n",
    "\n",
    "- https://codility.com/programmers/task/triangle/\n",
    "- https://codility.com/demo/results/trainingRNJJ56-2RT/ **100%**\n",
    "\n",
    "After some more thinking, A[i + 2] is the biggest... so the other verifications are not needed.\n",
    "- https://codility.com/demo/results/trainingEBG2D8-BH7"
   ]
  },
  {
   "cell_type": "code",
   "execution_count": 2,
   "metadata": {
    "collapsed": true
   },
   "outputs": [],
   "source": [
    "@printable\n",
    "def solution(A):\n",
    "    A.sort()\n",
    "    for i in range(len(A) - 2):\n",
    "        if A[i] + A[i + 1] > A[i + 2]:\n",
    "            return 1\n",
    "    return 0"
   ]
  },
  {
   "cell_type": "code",
   "execution_count": 3,
   "metadata": {
    "collapsed": false
   },
   "outputs": [
    {
     "name": "stdout",
     "output_type": "stream",
     "text": [
      "In:[1, 2, 5, 8, 10, 20] Out:1\n",
      "In:[1, 5, 10, 50] Out:0\n",
      "In:[1, 6, 8] Out:0\n",
      "In:[3, 6, 8] Out:1\n",
      "In:[3, 6, 10] Out:0\n",
      "In:[0, 1, 2] Out:0\n",
      "In:[] Out:0\n"
     ]
    },
    {
     "data": {
      "text/plain": [
       "0"
      ]
     },
     "execution_count": 3,
     "metadata": {},
     "output_type": "execute_result"
    }
   ],
   "source": [
    "solution([10, 2, 5, 1, 8, 20])\n",
    "solution([10, 50, 5, 1])\n",
    "solution([1, 6, 8])\n",
    "solution([3, 6, 8])\n",
    "solution([3, 6, 10])\n",
    "solution([0, 1, 2])\n",
    "solution([])"
   ]
  },
  {
   "cell_type": "markdown",
   "metadata": {},
   "source": [
    "## Distinct\n",
    "Compute number of distinct values in an array.\n",
    "\n",
    "- https://codility.com/programmers/task/distinct/\n",
    "- https://codility.com/demo/results/trainingVSJCCQ-RSD/ **100%**"
   ]
  },
  {
   "cell_type": "code",
   "execution_count": 4,
   "metadata": {
    "collapsed": true
   },
   "outputs": [],
   "source": [
    "@printable\n",
    "def solution(A):\n",
    "    if len(A) < 2:\n",
    "        return len(A)\n",
    "    A.sort()\n",
    "    count = 1\n",
    "    for i in range(len(A) - 1):\n",
    "        if A[i] != A[i + 1]:\n",
    "            count += 1\n",
    "    return count"
   ]
  },
  {
   "cell_type": "code",
   "execution_count": 5,
   "metadata": {
    "collapsed": false
   },
   "outputs": [
    {
     "name": "stdout",
     "output_type": "stream",
     "text": [
      "In:[1, 1, 1, 2, 2, 3] Out:3\n",
      "In:[] Out:0\n",
      "In:[1] Out:1\n",
      "In:[0, 1, 2, 3, 4, 5, 6, 7, .........., 99998, 99999] Out:100000\n",
      "In:[0, 0, 0, 0, 0, 0, 0, 0, .......... 2, 2, 2, 2, 2] Out:3\n",
      "In:[1, 1, 1, 1, 1, 1, 1, 1, .......... 5, 5, 5, 5, 5] Out:4\n"
     ]
    },
    {
     "data": {
      "text/plain": [
       "4"
      ]
     },
     "execution_count": 5,
     "metadata": {},
     "output_type": "execute_result"
    }
   ],
   "source": [
    "solution([2, 1, 1, 2, 3, 1])\n",
    "solution([])\n",
    "solution([1])\n",
    "solution([i for i in range(100000)])\n",
    "solution([i for i in range(3) for j in range(1000)])\n",
    "solution([5] * 100 + [1, 2, 3] * 1000)"
   ]
  },
  {
   "cell_type": "markdown",
   "metadata": {},
   "source": [
    "## MaxProductOfThree\n",
    "Maximize A[P] * A[Q] * A[R] for any triplet (P, Q, R).\n",
    "\n",
    "- https://codility.com/programmers/task/max_product_of_three/\n",
    "- https://codility.com/demo/results/training7GJBWQ-RBQ/ **100%**"
   ]
  },
  {
   "cell_type": "code",
   "execution_count": 6,
   "metadata": {
    "collapsed": true
   },
   "outputs": [],
   "source": [
    "@printable\n",
    "def solution(A):\n",
    "    assert len(A) > 2\n",
    "    N = len(A)\n",
    "    A.sort()\n",
    "    r = A[0] * A[1] * A[N - 1]\n",
    "    r = max(r, A[N - 3] * A[N - 2] * A[N - 1])\n",
    "    return r"
   ]
  },
  {
   "cell_type": "code",
   "execution_count": 7,
   "metadata": {
    "collapsed": false
   },
   "outputs": [
    {
     "name": "stdout",
     "output_type": "stream",
     "text": [
      "In:[-3, -2, 1, 2, 5, 6] Out:60\n",
      "In:[-2, -1, 0, 1, 2] Out:4\n",
      "In:[-2, -1, 0, 1] Out:2\n",
      "In:[-1, 0, 1, 2] Out:0\n",
      "In:[0, 1, 2, 3, 4] Out:24\n",
      "In:[1, 2, 3, 4, 5] Out:60\n",
      "In:[-4, -3, -2, -1, 0] Out:0\n",
      "In:[-5, -4, -3, -2, -1] Out:-6\n",
      "In:[-100, -100, -100, -100, .......... 100, 100, 100] Out:1000000\n"
     ]
    },
    {
     "data": {
      "text/plain": [
       "1000000"
      ]
     },
     "execution_count": 7,
     "metadata": {},
     "output_type": "execute_result"
    }
   ],
   "source": [
    "solution([-3, 1, 2, -2, 5, 6])\n",
    "solution([-2, -1, 0, 1, 2]) # crossing zero\n",
    "solution([-2, -1, 0, 1]) # crossing zero\n",
    "solution([-1, 0, 1, 2]) # crossing zero\n",
    "solution([0, 1, 2, 3, 4]) # all positives w. zero\n",
    "solution([1, 2, 3, 4, 5]) # all positives\n",
    "solution([-4, -3, -2, -1, 0]) # all negatives w. zero\n",
    "solution([-5, -4, -3, -2, -1]) # all negatives\n",
    "solution([x for x in range(-100,101) for j in range(100)])"
   ]
  },
  {
   "cell_type": "markdown",
   "metadata": {},
   "source": [
    "## NumberOfDiscIntersections\n",
    "Compute the number of intersections in a sequence of discs.\n",
    "\n",
    "- https://codility.com/programmers/task/number_of_disc_intersections/\n",
    "- https://codility.com/demo/results/training6SNGJC-VQ8/ **62%** (poor performance -- 25%) \n",
    "> the same solution worked in java... hehe.\n",
    "- https://codility.com/demo/results/trainingQSM6DZ-HA8/ **75%** (not all right results)\n",
    "```\n",
    "solution(list(reversed([x for x in range(4)])))\n",
    "```\n",
    "- https://codility.com/demo/results/trainingVVJ5XT-J2A/ **75%** (fixed some errors, yet still same result)\n",
    "> uuuuggghhh ! just looked at the error on the result page (which I had forced myself not to do so far) and yup... no point in going through all elements.\n",
    "- https://codility.com/demo/results/training9RG8WA-9A8/ **87%** getting there...\n",
    "- https://codility.com/demo/results/trainingHQKFJ9-CSC/ **100%** I guess that's why I practice."
   ]
  },
  {
   "cell_type": "code",
   "execution_count": 8,
   "metadata": {
    "collapsed": true
   },
   "outputs": [],
   "source": [
    "@printable\n",
    "def solution(A):\n",
    "    if len(A) == 0:\n",
    "        return 0\n",
    "    begin = []\n",
    "    end = []\n",
    "    for i, a in enumerate(A):        \n",
    "        begin.append(i - a) # left\n",
    "        end.append(i + a) # right\n",
    "    begin.sort()\n",
    "    end.sort()\n",
    "    stack = 0\n",
    "    index_e = 0\n",
    "    count = 0\n",
    "    #print begin, end\n",
    "    # we create a stack consisting of 'how many have begun' minus 'how many have ended'\n",
    "    for b in begin:\n",
    "        while (index_e < len(end) and end[index_e] < b):\n",
    "            stack -= 1\n",
    "            index_e += 1\n",
    "        count += stack\n",
    "        stack += 1\n",
    "        if count > 10000000:\n",
    "            return -1\n",
    "    return count"
   ]
  },
  {
   "cell_type": "code",
   "execution_count": 9,
   "metadata": {
    "collapsed": false
   },
   "outputs": [
    {
     "name": "stdout",
     "output_type": "stream",
     "text": [
      "In:[1, 5, 2, 1, 4, 0] Out:11\n",
      "In:[] Out:0\n",
      "In:[0] Out:0\n",
      "In:[1, 1] Out:1\n",
      "In:[1, 1, 1] Out:3\n",
      "In:[1, 0, 1] Out:3\n",
      "In:[1, 0, 0, 1] Out:2\n",
      "In:[0, 1, 0] Out:2\n",
      "In:[0, 0, 1, 0, 0] Out:2\n",
      "In:[0, 1, 2] Out:3\n",
      "In:[2, 1, 0] Out:3\n",
      "In:[0, 1, 2, 3, 2, 1, 0] Out:15\n",
      "In:[2, 1, 0, 1, 2, 3] Out:15\n",
      "In:[0, 0, 0, 0, 0, 0, 0, 0, 0, 0] Out:0\n",
      "In:[3, 3, 3, 3, 3, 3, 3, 3, 3, 3] Out:39\n",
      "In:[10] Out:0\n",
      "In:[0, 0, 1, 0, 2, 0, 3, 0, .......... 0, 8, 0, 9, 0] Out:70\n",
      "In:[10, 8, 6, 4, 2] Out:10\n"
     ]
    },
    {
     "data": {
      "text/plain": [
       "10"
      ]
     },
     "execution_count": 9,
     "metadata": {},
     "output_type": "execute_result"
    }
   ],
   "source": [
    "solution([1, 5, 2, 1, 4, 0])\n",
    "solution([])\n",
    "solution([0])\n",
    "solution([1, 1])\n",
    "solution([1, 1, 1])\n",
    "solution([1, 0, 1])\n",
    "solution([1, 0, 0, 1])\n",
    "solution([0, 1, 0])\n",
    "solution([0, 0, 1, 0, 0])\n",
    "solution([x for x in range(3)])\n",
    "solution(list(reversed([x for x in range(3)])))\n",
    "solution([x for x in range(4)] + list(reversed([x for x in range(3)])))\n",
    "solution(list(reversed([x for x in range(3)])) + [x + 1 for x in range(3)])\n",
    "solution([0] * 10)\n",
    "solution([3] * 10)\n",
    "solution([10])\n",
    "solution([x / 2 if (x % 2 == 0) else (0) for x in range(20)])\n",
    "solution([x * 2 for x in range(5, 0, -1)])"
   ]
  },
  {
   "cell_type": "code",
   "execution_count": null,
   "metadata": {
    "collapsed": true
   },
   "outputs": [],
   "source": []
  }
 ],
 "metadata": {
  "kernelspec": {
   "display_name": "Python 2",
   "language": "python",
   "name": "python2"
  },
  "language_info": {
   "codemirror_mode": {
    "name": "ipython",
    "version": 2
   },
   "file_extension": ".py",
   "mimetype": "text/x-python",
   "name": "python",
   "nbconvert_exporter": "python",
   "pygments_lexer": "ipython2",
   "version": "2.7.11"
  }
 },
 "nbformat": 4,
 "nbformat_minor": 0
}
