{
 "cells": [
  {
   "cell_type": "markdown",
   "metadata": {},
   "source": [
    "# Lesson 3 - Time Complexity"
   ]
  },
  {
   "cell_type": "markdown",
   "metadata": {},
   "source": [
    "## PermMissingElem\n",
    "Find the missing element in a given permutation.\n",
    "\n",
    "- https://codility.com/demo/take-sample-test/perm_missing_elem/\n",
    "- https://codility.com/demo/results/trainingJE6HDZ-CTA/ **100%**"
   ]
  },
  {
   "cell_type": "code",
   "execution_count": 1,
   "metadata": {
    "collapsed": true
   },
   "outputs": [],
   "source": [
    "from codility_print import printable"
   ]
  },
  {
   "cell_type": "code",
   "execution_count": 2,
   "metadata": {
    "collapsed": true
   },
   "outputs": [],
   "source": [
    "@printable\n",
    "def solution(A):\n",
    "    N = len(A)\n",
    "    sum = 0\n",
    "    expected_sum = N + N + 1 # last 2 terms\n",
    "    for i in xrange(N):\n",
    "        sum += A[i]\n",
    "        expected_sum += i\n",
    "    return expected_sum - sum"
   ]
  },
  {
   "cell_type": "code",
   "execution_count": 3,
   "metadata": {
    "collapsed": false
   },
   "outputs": [
    {
     "name": "stdout",
     "output_type": "stream",
     "text": [
      "In:[2, 3, 1, 5] Out:4\n",
      "In:[1, 2, 3, 4, 5, 6, 7, 8, .........., 99998, 99999] Out:50000\n",
      "In:[2, 3, 4, 5, 6, 7, 8, 9, .........., 99998, 99999] Out:1\n",
      "In:[1, 2, 3, 4, 5, 6, 7, 8, .........., 99998, 99999] Out:100000\n"
     ]
    },
    {
     "data": {
      "text/plain": [
       "100000L"
      ]
     },
     "execution_count": 3,
     "metadata": {},
     "output_type": "execute_result"
    }
   ],
   "source": [
    "solution([2, 3, 1, 5]) # demo\n",
    "solution([x for x in xrange(1, 50000)] + [x for x in xrange(50001, 100000)]) # middle term\n",
    "solution([x for x in xrange(2, 100000)]) # first term\n",
    "solution([x for x in xrange(1, 100000)]) # last term"
   ]
  },
  {
   "cell_type": "code",
   "execution_count": null,
   "metadata": {
    "collapsed": true
   },
   "outputs": [],
   "source": []
  }
 ],
 "metadata": {
  "kernelspec": {
   "display_name": "Python 2",
   "language": "python",
   "name": "python2"
  },
  "language_info": {
   "codemirror_mode": {
    "name": "ipython",
    "version": 2
   },
   "file_extension": ".py",
   "mimetype": "text/x-python",
   "name": "python",
   "nbconvert_exporter": "python",
   "pygments_lexer": "ipython2",
   "version": "2.7.11"
  }
 },
 "nbformat": 4,
 "nbformat_minor": 0
}
