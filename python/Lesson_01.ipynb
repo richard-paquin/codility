{
 "cells": [
  {
   "cell_type": "markdown",
   "metadata": {},
   "source": [
    "# Lesson 1 - Iterations\n",
    "https://codility.com/programmers/lessons/18/"
   ]
  },
  {
   "cell_type": "code",
   "execution_count": 1,
   "metadata": {
    "collapsed": true
   },
   "outputs": [],
   "source": [
    "from codility_print import printable"
   ]
  },
  {
   "cell_type": "markdown",
   "metadata": {},
   "source": [
    "## BinaryGap\n",
    "Find longest sequence of zeros in binary representation of an integer.\n",
    "\n",
    "- https://codility.com/programmers/task/binary_gap/\n",
    "- https://codility.com/demo/results/trainingJW69U5-EPM/ **100%**"
   ]
  },
  {
   "cell_type": "code",
   "execution_count": 2,
   "metadata": {
    "collapsed": false
   },
   "outputs": [],
   "source": [
    "@printable\n",
    "def solution(N):\n",
    "    assert N > 0\n",
    "    count = 0\n",
    "    max_count = 0\n",
    "    while N & 1 == 0:\n",
    "        N = N >> 1\n",
    "    while N > 0:\n",
    "        if N & 1 == 1:\n",
    "            count = 0\n",
    "        else:\n",
    "            count += 1\n",
    "        max_count = max(count, max_count)\n",
    "        N = N >> 1\n",
    "    return max_count    "
   ]
  },
  {
   "cell_type": "code",
   "execution_count": 3,
   "metadata": {
    "collapsed": false
   },
   "outputs": [
    {
     "name": "stdout",
     "output_type": "stream",
     "text": [
      "In:1041 Out:5\n",
      "In:15 Out:0\n",
      "In:1 Out:0\n",
      "In:2 Out:0\n",
      "In:3 Out:0\n",
      "In:5 Out:1\n",
      "In:1073741825 Out:29\n",
      "In:2147483645 Out:1\n",
      "In:2147483647 Out:0\n"
     ]
    },
    {
     "data": {
      "text/plain": [
       "0"
      ]
     },
     "execution_count": 3,
     "metadata": {},
     "output_type": "execute_result"
    }
   ],
   "source": [
    "solution(1041)\n",
    "solution(15)\n",
    "solution(1)\n",
    "solution(2)\n",
    "solution(3)\n",
    "solution(5)\n",
    "solution(1073741825)\n",
    "solution(2147483645)\n",
    "solution(2147483647)"
   ]
  }
 ],
 "metadata": {
  "kernelspec": {
   "display_name": "Python 2",
   "language": "python",
   "name": "python2"
  },
  "language_info": {
   "codemirror_mode": {
    "name": "ipython",
    "version": 2
   },
   "file_extension": ".py",
   "mimetype": "text/x-python",
   "name": "python",
   "nbconvert_exporter": "python",
   "pygments_lexer": "ipython2",
   "version": "2.7.11"
  }
 },
 "nbformat": 4,
 "nbformat_minor": 0
}
