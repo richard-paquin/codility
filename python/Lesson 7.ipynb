{
 "cells": [
  {
   "cell_type": "markdown",
   "metadata": {},
   "source": [
    "# Lesson 7 - Stacks and Queues"
   ]
  },
  {
   "cell_type": "code",
   "execution_count": 1,
   "metadata": {
    "collapsed": true
   },
   "outputs": [],
   "source": [
    "from codility_print import printable"
   ]
  },
  {
   "cell_type": "markdown",
   "metadata": {},
   "source": [
    "## Fish\n",
    "N voracious fish are moving along a river. Calculate how many fish are alive.\n",
    "\n",
    "- https://codility.com/programmers/task/fish/\n",
    "- https://codility.com/demo/results/trainingXRH9UR-WBJ/ **87%**\n",
    "> method of creating a stack is not optimal, too much array copying. let's use a worst case array, and change the index\n",
    "- https://codility.com/demo/results/training2DEEAY-RRG/ **100%**\n",
    "\n",
    "_just found out I could use pop() on a list. let's redo initial code with pop_\n",
    "- https://codility.com/demo/results/trainingMHEMX2-JTD/ **100%**"
   ]
  },
  {
   "cell_type": "code",
   "execution_count": 2,
   "metadata": {
    "collapsed": true
   },
   "outputs": [],
   "source": [
    "@printable\n",
    "def solution(A, B):\n",
    "    moving_down = [0] * len(A) # worst case\n",
    "    moving_down_len = 0 # fake stack\n",
    "    count = 0\n",
    "    for i in range(len(A)):\n",
    "        if B[i] == 1:\n",
    "            moving_down[moving_down_len] = A[i]\n",
    "            moving_down_len += 1\n",
    "        else:\n",
    "            while moving_down_len > 0 and moving_down[moving_down_len - 1] < A[i]:\n",
    "                moving_down_len -= 1\n",
    "            if moving_down_len == 0:\n",
    "                count += 1\n",
    "    # print 'len %d, count %d' % (moving_down_len, count)\n",
    "    return moving_down_len + count"
   ]
  },
  {
   "cell_type": "code",
   "execution_count": 3,
   "metadata": {
    "collapsed": false
   },
   "outputs": [
    {
     "name": "stdout",
     "output_type": "stream",
     "text": [
      "In:[4, 3, 2, 1, 5], [0, 1, 0, 0, 0] Out:2\n",
      "In:[1, 2, 3, 4, 5], [0, 0, 0, 0, 0] Out:5\n",
      "In:[1, 2, 3, 4, 5], [1, 1, 1, 1, 1] Out:5\n",
      "In:[1, 2, 3, 4, 5, 6, 7, 8, .......... 1, 0, 1, 0, 1] Out:11\n",
      "In:[1, 2, 3, 4, 5, 6, 7, 8, .......... 0, 1, 0, 1, 0] Out:10\n",
      "In:[1, 2, 3, 4, 5, 6, 7, 8, .......... 0, 0, 0, 0, 1] Out:20\n",
      "In:[1, 2, 3, 4, 5, 6, 7, 8, .......... 1, 1, 1, 1, 0] Out:1\n",
      "In:[20, 1, 2, 3, 4, 5, 6, 7,.......... 0, 0, 0, 0, 1] Out:20\n",
      "In:[20, 1, 2, 3, 4, 5, 6, 7,.......... 1, 1, 1, 1, 0] Out:1\n"
     ]
    },
    {
     "data": {
      "text/plain": [
       "1"
      ]
     },
     "execution_count": 3,
     "metadata": {},
     "output_type": "execute_result"
    }
   ],
   "source": [
    "solution([4, 3, 2, 1, 5], [0, 1, 0, 0, 0])\n",
    "solution([x + 1 for x in range(5)], [0 for x in range(5)])\n",
    "solution([x + 1 for x in range(5)], [1 for x in range(5)])\n",
    "solution([x + 1 for x in range(20)], [x % 2 for x in range(20)])\n",
    "solution([x + 1 for x in range(20)], [(x + 1) % 2 for x in range(20)])\n",
    "solution([x for x in range(1, 20)] + [21], [0] * 19 + [1])\n",
    "solution([x for x in range(1, 20)] + [21], [1] * 19 + [0])\n",
    "solution([20] + [x for x in range(1, 20)], [0] * 19 + [1])\n",
    "solution([20] + [x for x in range(1, 20)], [1] * 19 + [0])"
   ]
  },
  {
   "cell_type": "markdown",
   "metadata": {},
   "source": [
    "## Brackets\n",
    "Determine whether a given string of parentheses is properly nested.\n",
    "\n",
    "- https://codility.com/programmers/task/brackets/\n",
    "- https://codility.com/demo/results/trainingW454X4-JFJ/ **100%**"
   ]
  },
  {
   "cell_type": "code",
   "execution_count": 4,
   "metadata": {
    "collapsed": true
   },
   "outputs": [],
   "source": [
    "@printable\n",
    "def solution(S):\n",
    "    o = ('(', '{', '[')\n",
    "    e = (')', '}', ']')\n",
    "    stack = []\n",
    "    for c in S:\n",
    "        if c in o:\n",
    "            stack.append(c)\n",
    "        else:\n",
    "            if c not in e: # invalid char\n",
    "                return 0\n",
    "            if len(stack) < 1: # closing empty stack\n",
    "                return 0\n",
    "            c2 = stack.pop()\n",
    "            if o.index(c2) != e.index(c):\n",
    "                return 0\n",
    "    return 1 if len(stack) == 0 else 0"
   ]
  },
  {
   "cell_type": "code",
   "execution_count": 5,
   "metadata": {
    "collapsed": false
   },
   "outputs": [
    {
     "name": "stdout",
     "output_type": "stream",
     "text": [
      "In:'{[()()]}' Out:1\n",
      "In:'([)()]' Out:0\n",
      "In:'' Out:1\n",
      "In:'(){}[]' Out:1\n",
      "In:'((((((((((((((((((((((((..........))))))))))))))' Out:1\n",
      "In:'((((((((((((((((((((((((..........))))))))))))))' Out:0\n",
      "In:'((((((((((((((((((((((((..........))))))))))))))' Out:0\n"
     ]
    },
    {
     "data": {
      "text/plain": [
       "0"
      ]
     },
     "execution_count": 5,
     "metadata": {},
     "output_type": "execute_result"
    }
   ],
   "source": [
    "solution('{[()()]}')\n",
    "solution('([)()]')\n",
    "solution('')\n",
    "solution('(){}[]')\n",
    "solution('(' * 50000 + ')' * 50000)\n",
    "solution('(' * 50001 + ')' * 50000)\n",
    "solution('(' * 50000 + ')' * 50001)"
   ]
  },
  {
   "cell_type": "markdown",
   "metadata": {},
   "source": [
    "## StoneWall\n",
    "Cover \"Manhattan skyline\" using the minimum number of rectangles.\n",
    "\n",
    "- https://codility.com/programmers/task/stone_wall/\n",
    "- https://codility.com/demo/results/trainingF9476P-CRC/ **100%**"
   ]
  },
  {
   "cell_type": "code",
   "execution_count": 6,
   "metadata": {
    "collapsed": true
   },
   "outputs": [],
   "source": [
    "@printable\n",
    "def solution(H):\n",
    "    blocks = []\n",
    "    total_height = 0\n",
    "    used_blocks = 0\n",
    "    for h in H:\n",
    "        while total_height > h:\n",
    "            used_blocks += 1\n",
    "            total_height -= blocks.pop()\n",
    "        if total_height < h:\n",
    "            block_height = h - total_height\n",
    "            blocks.append(block_height)\n",
    "            total_height += block_height\n",
    "        elif total_height == h:\n",
    "            continue\n",
    "    return used_blocks + len(blocks)"
   ]
  },
  {
   "cell_type": "code",
   "execution_count": 7,
   "metadata": {
    "collapsed": false
   },
   "outputs": [
    {
     "name": "stdout",
     "output_type": "stream",
     "text": [
      "In:[8, 8, 5, 7, 9, 8, 7, 4, 8] Out:7\n",
      "In:[1] Out:1\n",
      "In:[10000, 20000, 30000, 400..........00, 1000000000] Out:100000\n",
      "In:[1000000000, 999990000, 9.........., 20000, 10000] Out:100000\n",
      "In:[50000, 49999, 49998, 499.........., 49999, 50000] Out:99999\n",
      "In:[1, 2, 3, 4, 5, 6, 7, 8, .......... 5, 4, 3, 2, 1] Out:50000\n",
      "In:[1, 1, 1, 1, 1, 1, 1, 1, .......... 5, 5, 5, 5, 5] Out:5\n",
      "In:[5, 4, 3, 2, 1] Out:5\n",
      "In:[5, 5, 5, 5, 5, 5, 5, 5, .......... 1, 1, 1, 1, 1] Out:5\n",
      "In:[1, 2, 1, 2, 1, 2, 1, 2, .......... 2, 1, 2, 1, 2] Out:50001\n"
     ]
    },
    {
     "data": {
      "text/plain": [
       "50001"
      ]
     },
     "execution_count": 7,
     "metadata": {},
     "output_type": "execute_result"
    }
   ],
   "source": [
    "solution([8, 8, 5, 7, 9, 8, 7, 4, 8])\n",
    "solution([1])\n",
    "solution([(x + 1) * 10000 for x in range(100000)])\n",
    "solution([(x + 1) * 10000 for x in range(100000)][::-1])\n",
    "solution([(x + 1) for x in range(50000)][::-1] + [(x + 1) for x in range(50000)])\n",
    "solution([(x + 1) for x in range(50000)] + [(x + 1) for x in range(50000)][::-1])\n",
    "solution([(x + 1) for x in range(5) for y in range(20000)])\n",
    "solution([x for x in range(5, 0, -1) for y in range(1)])\n",
    "solution([x for x in range(5, 0, -1) for y in range(20000)])\n",
    "solution([x % 2 + 1 for x in range(100000)])"
   ]
  },
  {
   "cell_type": "markdown",
   "metadata": {},
   "source": [
    "## Nesting\n",
    "Determine whether given string of parentheses is properly nested.\n",
    "\n",
    "- https://codility.com/programmers/task/nesting/\n",
    "- https://codility.com/demo/results/trainingZYUXP4-72C/"
   ]
  },
  {
   "cell_type": "code",
   "execution_count": 8,
   "metadata": {
    "collapsed": true
   },
   "outputs": [],
   "source": [
    "@printable\n",
    "def solution(S):\n",
    "    count_open = 0\n",
    "    for c in S:\n",
    "        if c == '(':\n",
    "            count_open += 1\n",
    "        else:\n",
    "            count_open -= 1\n",
    "        if count_open < 0:\n",
    "            return 0\n",
    "    return 1 if count_open == 0 else 0"
   ]
  },
  {
   "cell_type": "code",
   "execution_count": 9,
   "metadata": {
    "collapsed": false
   },
   "outputs": [
    {
     "name": "stdout",
     "output_type": "stream",
     "text": [
      "In:'(()(())())' Out:1\n",
      "In:'())' Out:0\n",
      "In:'' Out:1\n",
      "In:'()()()()()()()()()()()()..........()()()()()()()' Out:1\n",
      "In:'((((((((((((((((((((((((..........))))))))))))))' Out:1\n",
      "In:'(()(()(()(()(()(()(()(()..........))())())())())' Out:1\n",
      "In:'((()(()(()(()(()(()(()((..........))())())())())' Out:0\n",
      "In:'(()(()(()(()(()(()(()(()..........))())())())())' Out:0\n",
      "In:'(()(()(()(()(()(()(()(()..........)())())())())(' Out:0\n",
      "In:')(()(()(()(()(()(()(()((..........))())())())())' Out:0\n",
      "In:'(()(()(()(()(()(()(()(()..........))())())())())' Out:0\n",
      "In:'(()(()(()(()(()(()(()(()..........)())())())()))' Out:0\n"
     ]
    },
    {
     "data": {
      "text/plain": [
       "0"
      ]
     },
     "execution_count": 9,
     "metadata": {},
     "output_type": "execute_result"
    }
   ],
   "source": [
    "solution('(()(())())')\n",
    "solution('())')\n",
    "solution('')\n",
    "solution('()' * 500000)\n",
    "solution('(' * 500000 + ')' * 500000)\n",
    "solution('(()' * 200000 + '())' * 200000)\n",
    "solution('(' + '(()' * 200000 + '())' * 200000)\n",
    "solution('(()' * 200000 + '(' + '())' * 200000)\n",
    "solution('(()' * 200000 + '())' * 200000 + '(')\n",
    "solution(')' + '(()' * 200000 + '())' * 200000)\n",
    "solution('(()' * 200000 + ')' + '())' * 200000)\n",
    "solution('(()' * 200000 + '())' * 200000 + ')')"
   ]
  },
  {
   "cell_type": "code",
   "execution_count": null,
   "metadata": {
    "collapsed": true
   },
   "outputs": [],
   "source": []
  }
 ],
 "metadata": {
  "kernelspec": {
   "display_name": "Python 2",
   "language": "python",
   "name": "python2"
  },
  "language_info": {
   "codemirror_mode": {
    "name": "ipython",
    "version": 2
   },
   "file_extension": ".py",
   "mimetype": "text/x-python",
   "name": "python",
   "nbconvert_exporter": "python",
   "pygments_lexer": "ipython2",
   "version": "2.7.11"
  }
 },
 "nbformat": 4,
 "nbformat_minor": 0
}
