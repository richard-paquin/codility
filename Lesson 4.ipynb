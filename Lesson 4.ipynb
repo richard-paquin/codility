{
 "cells": [
  {
   "cell_type": "markdown",
   "metadata": {},
   "source": [
    "# Lesson 4 - Counting Elements"
   ]
  },
  {
   "cell_type": "markdown",
   "metadata": {},
   "source": [
    "## FrogRiverOne\n",
    "Find the earliest time when a frog can jump to the other side of a river.\n",
    "\n",
    "- https://codility.com/demo/take-sample-test/frog_river_one/\n",
    "- https://codility.com/demo/results/trainingWJ6MD6-JY8/ **100%\n",
    "\n",
    "Pythons says that a set has the required time complexity of O(n): https://wiki.python.org/moin/TimeComplexity"
   ]
  },
  {
   "cell_type": "code",
   "execution_count": 1,
   "metadata": {
    "collapsed": true
   },
   "outputs": [],
   "source": [
    "from codility_print import printable"
   ]
  },
  {
   "cell_type": "code",
   "execution_count": 2,
   "metadata": {
    "collapsed": true
   },
   "outputs": [],
   "source": [
    "@printable\n",
    "def solution(X, A):\n",
    "    s = set()\n",
    "    for i, v in enumerate(A):\n",
    "        s.add(v)\n",
    "        if (len(s) == X):\n",
    "            return i\n",
    "    return -1"
   ]
  },
  {
   "cell_type": "code",
   "execution_count": 3,
   "metadata": {
    "collapsed": false
   },
   "outputs": [
    {
     "name": "stdout",
     "output_type": "stream",
     "text": [
      "In:5, [1, 3, 1, 4, 2, 3, 5, 4] Out:6\n"
     ]
    },
    {
     "data": {
      "text/plain": [
       "6"
      ]
     },
     "execution_count": 3,
     "metadata": {},
     "output_type": "execute_result"
    }
   ],
   "source": [
    "solution(5, [1, 3, 1, 4, 2, 3, 5, 4])"
   ]
  },
  {
   "cell_type": "markdown",
   "metadata": {
    "collapsed": true
   },
   "source": [
    "## PermCheck\n",
    "Check whether array A is a permutation.\n",
    "\n",
    "- https://codility.com/demo/take-sample-test/perm_check/\n",
    "- https://codility.com/demo/results/trainingB7PHDB-T5S/ ** 100% **"
   ]
  },
  {
   "cell_type": "code",
   "execution_count": 4,
   "metadata": {
    "collapsed": true
   },
   "outputs": [],
   "source": [
    "def solution(A):\n",
    "    N = len(A)\n",
    "    s = set()\n",
    "    for v in A:\n",
    "        if v < 1:\n",
    "            return 0\n",
    "        if v > N:\n",
    "            return 0\n",
    "        if v in s:\n",
    "            return 0\n",
    "        s.add(v)\n",
    "    return 1"
   ]
  },
  {
   "cell_type": "markdown",
   "metadata": {},
   "source": [
    "## MissingInteger\n",
    "Find the minimal positive integer not occurring in a given sequence.\n",
    "\n",
    "- https://codility.com/programmers/task/missing_integer/\n",
    "- https://codility.com/demo/take-sample-test/missing_integer/\n",
    "- https://codility.com/demo/results/trainingEHS6RX-HWD/ **correctness = 80%** \n",
    " - Input: [2] makes this test fail. Changing line to...\n",
    " ```\n",
    " v >= N:\n",
    " ```\n",
    "- https://codility.com/demo/results/trainingFFSHKZ-SS6/ **100%**"
   ]
  },
  {
   "cell_type": "code",
   "execution_count": 5,
   "metadata": {
    "collapsed": false
   },
   "outputs": [],
   "source": [
    "@printable\n",
    "def solution(A):\n",
    "    N = len(A)\n",
    "    c = [0] * N\n",
    "    for v in A:\n",
    "        v = v - 1 # zero based\n",
    "        if v >= N:\n",
    "            continue\n",
    "        if v < 0:\n",
    "            continue\n",
    "        c[v] = 1\n",
    "    for i, v in enumerate(c):\n",
    "        if v == 0:\n",
    "            return i + 1\n",
    "    return N + 1"
   ]
  },
  {
   "cell_type": "code",
   "execution_count": 6,
   "metadata": {
    "collapsed": false
   },
   "outputs": [
    {
     "name": "stdout",
     "output_type": "stream",
     "text": [
      "In:[1, 3, 6, 4, 1, 2] Out:5\n",
      "In:[1, 2, 3, 4] Out:5\n",
      "In:[0, 1, 2, 3, 4] Out:5\n",
      "In:[-1, -1] Out:1\n",
      "In:[-1, -1, 3] Out:1\n",
      "In:[0] Out:1\n",
      "In:[1] Out:2\n",
      "In:[2] Out:1\n"
     ]
    },
    {
     "data": {
      "text/plain": [
       "1"
      ]
     },
     "execution_count": 6,
     "metadata": {},
     "output_type": "execute_result"
    }
   ],
   "source": [
    "solution([1, 3, 6, 4, 1, 2])\n",
    "solution([1, 2, 3, 4])\n",
    "solution([0, 1, 2, 3, 4])\n",
    "solution([-1, -1])\n",
    "solution([-1, -1, 3])\n",
    "solution([0])\n",
    "solution([1])\n",
    "solution([2])"
   ]
  },
  {
   "cell_type": "markdown",
   "metadata": {},
   "source": [
    "## MaxCounters\n",
    "Calculate the values of counters after applying all alternating operations: increase counter by 1; set value of all counters to current maximum.\n",
    "\n",
    "- https://codility.com/programmers/task/max_counters/\n",
    "- https://codility.com/demo/results/trainingXCFU3C-EBZ/ **66%**\n",
    " - this was not properly tested\n",
    "- https://codility.com/demo/results/trainingR42GZD-HP4/ **100%**"
   ]
  },
  {
   "cell_type": "code",
   "execution_count": 7,
   "metadata": {
    "collapsed": true
   },
   "outputs": [],
   "source": [
    "@printable\n",
    "def solution(N, A):\n",
    "    counters = [0] * N\n",
    "    current_max_value = 0\n",
    "    counters_min_value = 0\n",
    "    for i in A:\n",
    "        i -= 1 # zero based\n",
    "        if i >= N:\n",
    "            counters_min_value = current_max_value\n",
    "        else:\n",
    "            counters[i] = max(counters[i], counters_min_value)\n",
    "            counters[i] += 1\n",
    "            current_max_value = max(counters[i], current_max_value)\n",
    "    for i, v in enumerate(counters):\n",
    "        counters[i] = max(counters[i], counters_min_value)            \n",
    "    return counters"
   ]
  },
  {
   "cell_type": "code",
   "execution_count": 8,
   "metadata": {
    "collapsed": false
   },
   "outputs": [
    {
     "name": "stdout",
     "output_type": "stream",
     "text": [
      "In:5, [3, 4, 4, 6, 1, 4, 4] Out:[3, 2, 2, 4, 2]\n",
      "In:2, [1, 1, 1] Out:[3, 0]\n",
      "In:2, [2, 2, 2] Out:[0, 3]\n",
      "In:2, [2, 2, 2, 3] Out:[3, 3]\n"
     ]
    },
    {
     "data": {
      "text/plain": [
       "[3, 3]"
      ]
     },
     "execution_count": 8,
     "metadata": {},
     "output_type": "execute_result"
    }
   ],
   "source": [
    "solution(5, [3, 4, 4, 6, 1, 4, 4]) \n",
    "solution(2, [1, 1, 1]) \n",
    "solution(2, [2, 2, 2])\n",
    "solution(2, [2, 2, 2, 3])"
   ]
  },
  {
   "cell_type": "code",
   "execution_count": null,
   "metadata": {
    "collapsed": true
   },
   "outputs": [],
   "source": []
  }
 ],
 "metadata": {
  "kernelspec": {
   "display_name": "Python 2",
   "language": "python",
   "name": "python2"
  },
  "language_info": {
   "codemirror_mode": {
    "name": "ipython",
    "version": 2
   },
   "file_extension": ".py",
   "mimetype": "text/x-python",
   "name": "python",
   "nbconvert_exporter": "python",
   "pygments_lexer": "ipython2",
   "version": "2.7.11"
  }
 },
 "nbformat": 4,
 "nbformat_minor": 0
}
