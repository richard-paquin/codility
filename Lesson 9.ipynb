{
 "cells": [
  {
   "cell_type": "markdown",
   "metadata": {},
   "source": [
    "# Lesson 9 - Maximum slice problem\n",
    "https://codility.com/programmers/lessons/7/"
   ]
  },
  {
   "cell_type": "code",
   "execution_count": 1,
   "metadata": {
    "collapsed": true
   },
   "outputs": [],
   "source": [
    "from codility_print import printable"
   ]
  },
  {
   "cell_type": "markdown",
   "metadata": {},
   "source": [
    "## MaxProfit <font color='red'>(To review...)</font>\n",
    "Given a log of stock prices compute the maximum possible earning.\n",
    "\n",
    "- https://codility.com/programmers/task/max_profit/\n",
    "- https://codility.com/demo/results/trainingVU8H4N-9W7/ **100%**\n"
   ]
  },
  {
   "cell_type": "code",
   "execution_count": 3,
   "metadata": {
    "collapsed": true
   },
   "outputs": [],
   "source": [
    "@printable\n",
    "def solution(A):\n",
    "    profit = []\n",
    "    for i in xrange(len(A) - 1):\n",
    "        profit.append(A[i + 1] - A[i])\n",
    "    current_profit = 0\n",
    "    max_profit = 0\n",
    "    for x in profit:\n",
    "        current_profit = max(0, current_profit + x)\n",
    "        max_profit = max(max_profit, current_profit)\n",
    "    return max_profit"
   ]
  },
  {
   "cell_type": "code",
   "execution_count": 4,
   "metadata": {
    "collapsed": false
   },
   "outputs": [
    {
     "name": "stdout",
     "output_type": "stream",
     "text": [
      "In:[23171, 21011, 21123, 21366, 21013, 21367] Out:356\n",
      "In:[10, 9, 8, 7, 6] Out:0\n",
      "In:[5, 6, 7, 8, 9] Out:4\n",
      "In:[10, 9, 8, 7, 6, 5, 6, 7, 8, 9] Out:4\n",
      "In:[5, 6, 7, 8, 9, 10, 9, 8, 7, 6] Out:5\n"
     ]
    },
    {
     "data": {
      "text/plain": [
       "5"
      ]
     },
     "execution_count": 4,
     "metadata": {},
     "output_type": "execute_result"
    }
   ],
   "source": [
    "solution([23171, 21011, 21123, 21366, 21013, 21367])\n",
    "solution([x for x in xrange(10, 5, -1)])\n",
    "solution([x for x in xrange(5, 10)])\n",
    "solution([x for x in xrange(10, 5, -1)] + [x for x in xrange(5, 10)])\n",
    "solution([x for x in xrange(5, 10)] + [x for x in xrange(10, 5, -1)])"
   ]
  },
  {
   "cell_type": "markdown",
   "metadata": {},
   "source": [
    "## MaxDoubleSliceSum\n",
    "Find the maximal sum of any double slice.\n",
    "\n",
    "- https://codility.com/programmers/task/max_double_slice_sum/\n",
    "- ... to review"
   ]
  },
  {
   "cell_type": "code",
   "execution_count": null,
   "metadata": {
    "collapsed": true
   },
   "outputs": [],
   "source": []
  }
 ],
 "metadata": {
  "kernelspec": {
   "display_name": "Python 2",
   "language": "python",
   "name": "python2"
  },
  "language_info": {
   "codemirror_mode": {
    "name": "ipython",
    "version": 2
   },
   "file_extension": ".py",
   "mimetype": "text/x-python",
   "name": "python",
   "nbconvert_exporter": "python",
   "pygments_lexer": "ipython2",
   "version": "2.7.11"
  }
 },
 "nbformat": 4,
 "nbformat_minor": 0
}
