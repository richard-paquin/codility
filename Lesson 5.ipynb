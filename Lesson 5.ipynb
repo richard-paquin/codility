{
 "cells": [
  {
   "cell_type": "markdown",
   "metadata": {},
   "source": [
    "# Lesson 5 - Prefix Sums"
   ]
  },
  {
   "cell_type": "markdown",
   "metadata": {},
   "source": [
    "## PassingCars\n",
    "Count the number of passing cars on the road.\n",
    "\n",
    "- https://codility.com/programmers/task/passing_cars/\n",
    "- https://codility.com/demo/results/trainingR29F2Y-ZUA/ **100%**"
   ]
  },
  {
   "cell_type": "code",
   "execution_count": 1,
   "metadata": {
    "collapsed": true
   },
   "outputs": [],
   "source": [
    "from codility_print import printable"
   ]
  },
  {
   "cell_type": "code",
   "execution_count": 2,
   "metadata": {
    "collapsed": true
   },
   "outputs": [],
   "source": [
    "@printable\n",
    "def solution(A):\n",
    "    N = len(A)\n",
    "    sum = 0\n",
    "    sum_sum = 0\n",
    "    for i in range(N):\n",
    "        if A[i] == 0:\n",
    "            sum += 1\n",
    "        else:\n",
    "            sum_sum += sum\n",
    "            if (sum_sum > 1000000000):\n",
    "                return -1;                \n",
    "    return sum_sum"
   ]
  },
  {
   "cell_type": "code",
   "execution_count": 3,
   "metadata": {
    "collapsed": false
   },
   "outputs": [
    {
     "name": "stdout",
     "output_type": "stream",
     "text": [
      "In:[0, 1] Out:1\n",
      "In:[1, 0] Out:0\n",
      "In:[0, 0] Out:0\n",
      "In:[1, 1] Out:0\n",
      "In:[0, 1, 1, 0] Out:2\n",
      "In:[1, 0, 0, 1] Out:2\n",
      "In:[0, 1, 0, 1, 1] Out:5\n",
      "In:[0, 1, 0, 1] Out:3\n",
      "In:[0, 1, 0, 1, 0, 1, 0, 1, .......... 1, 0, 1, 0, 1] Out:-1\n",
      "In:[0, 1, 0, 1, 0, 1, 0, 1, .......... 1, 0, 1, 0, 1] Out:50005000\n"
     ]
    },
    {
     "data": {
      "text/plain": [
       "50005000"
      ]
     },
     "execution_count": 3,
     "metadata": {},
     "output_type": "execute_result"
    }
   ],
   "source": [
    "solution([0, 1])\n",
    "solution([1, 0])\n",
    "solution([0, 0])\n",
    "solution([1, 1])\n",
    "solution([0, 1, 1, 0])\n",
    "solution([1, 0, 0, 1])\n",
    "solution([0, 1, 0, 1, 1])\n",
    "solution([0, 1] * 2)\n",
    "solution([0, 1] * 100000)\n",
    "solution([0, 1] * 10000)"
   ]
  },
  {
   "cell_type": "markdown",
   "metadata": {},
   "source": [
    "## CountDiv\n",
    "Compute number of integers divisible by k in range [a..b].\n",
    "\n",
    "- https://codility.com/programmers/task/count_div/\n",
    "- https://codility.com/demo/results/trainingV538VM-2VU/ **100%**\n",
    "\n",
    "... even smarter (based on something found on the internet)\n",
    "- https://codility.com/demo/results/training7K7FS7-K74/ **100%**"
   ]
  },
  {
   "cell_type": "code",
   "execution_count": 4,
   "metadata": {
    "collapsed": true
   },
   "outputs": [],
   "source": [
    "@printable\n",
    "def solution(A, B, K):\n",
    "    count = 1 if (A % K == 0) else 0 # should A != 0 ?\n",
    "    count += (B / K) - (A / K)\n",
    "    return count"
   ]
  },
  {
   "cell_type": "code",
   "execution_count": 5,
   "metadata": {
    "collapsed": true
   },
   "outputs": [],
   "source": [
    "@printable\n",
    "def solution(A, B, K):\n",
    "    count = B / K - (A - 1) / K\n",
    "    return count"
   ]
  },
  {
   "cell_type": "code",
   "execution_count": 6,
   "metadata": {
    "collapsed": false
   },
   "outputs": [
    {
     "name": "stdout",
     "output_type": "stream",
     "text": [
      "In:6, 11, 2 Out:3\n",
      "In:6, 12, 2 Out:4\n",
      "In:7, 11, 2 Out:2\n",
      "In:6, 11, 3 Out:2\n",
      "In:1, 4, 1 Out:4\n",
      "In:0, 5, 2 Out:3\n",
      "In:5, 5, 5 Out:1\n",
      "In:6, 6, 5 Out:0\n"
     ]
    },
    {
     "data": {
      "text/plain": [
       "0"
      ]
     },
     "execution_count": 6,
     "metadata": {},
     "output_type": "execute_result"
    }
   ],
   "source": [
    "solution(6, 11, 2) # initial test\n",
    "solution(6, 12, 2) # right boundary\n",
    "solution(7, 11, 2) # left boundary\n",
    "solution(6, 11, 3) # different divisor\n",
    "solution(1, 4, 1)  # divisor = 1\n",
    "solution(0, 5, 2)  # zero start \n",
    "solution(5, 5, 5)  # empty range divisible\n",
    "solution(6, 6, 5)  # empty range non divisible"
   ]
  },
  {
   "cell_type": "markdown",
   "metadata": {},
   "source": [
    "## GenomicRangeQuery\n",
    "Find the minimal nucleotide from a range of sequence DNA.\n",
    "\n",
    "- https://codility.com/programmers/task/genomic_range_query/\n",
    "- https://codility.com/demo/results/trainingVBEXU3-433/ **100%**"
   ]
  },
  {
   "cell_type": "code",
   "execution_count": 7,
   "metadata": {
    "collapsed": true
   },
   "outputs": [],
   "source": [
    "@printable\n",
    "def solution(S, P, Q):\n",
    "    prefs = [[0] * (len(S) + 1) for i in range(4)]\n",
    "    for i, c in enumerate(S):\n",
    "        for p in prefs:\n",
    "            p[i + 1] = p[i]\n",
    "        if c == 'A' : prefs[0][i + 1] += 1\n",
    "        if c == 'C' : prefs[1][i + 1] += 1\n",
    "        if c == 'G' : prefs[2][i + 1] += 1\n",
    "        if c == 'T' : prefs[3][i + 1] += 1\n",
    "    # print prefs\n",
    "    return_value = []\n",
    "    for i in range(len(P)):\n",
    "        for j in range(4):\n",
    "            if prefs[j][Q[i] + 1] > prefs[j][P[i]]:\n",
    "                return_value.append(j + 1)\n",
    "                break\n",
    "    return return_value"
   ]
  },
  {
   "cell_type": "code",
   "execution_count": 8,
   "metadata": {
    "collapsed": false
   },
   "outputs": [
    {
     "name": "stdout",
     "output_type": "stream",
     "text": [
      "In:'CAGCCTA', [2, 5, 0], [4, 5, 6] Out:[2, 4, 1]\n",
      "In:'AAAAAA', [2, 5, 0], [4, 5, 5] Out:[1, 1, 1]\n",
      "In:'ACGT', [0, 1, 2, 3], [0, 1, 2, 3] Out:[1, 2, 3, 4]\n",
      "In:'ACGT', [3, 2, 1, 0], [3, 2, 1, 0] Out:[4, 3, 2, 1]\n",
      "In:'ACGT', [0, 1, 2, 3], [3, 3, 3, 3] Out:[1, 2, 3, 4]\n",
      "In:'TGCA', [0, 1, 2, 3], [3, 3, 3, 3] Out:[1, 1, 1, 1]\n"
     ]
    },
    {
     "data": {
      "text/plain": [
       "[1, 1, 1, 1]"
      ]
     },
     "execution_count": 8,
     "metadata": {},
     "output_type": "execute_result"
    }
   ],
   "source": [
    "solution('CAGCCTA', [2, 5, 0], [4, 5, 6]) # should return [2, 4, 1]\n",
    "solution('AAAAAA', [2, 5, 0], [4, 5, 5]) \n",
    "solution('ACGT', [i for i in range(4)], [i for i in range(4)])\n",
    "solution('ACGT', [i for i in reversed(range(4))], [i for i in reversed(range(4))]) \n",
    "solution('ACGT', [i for i in range(4)], [3] * 4)\n",
    "solution('TGCA', [i for i in range(4)], [3] * 4)"
   ]
  },
  {
   "cell_type": "markdown",
   "metadata": {},
   "source": [
    "## MinAvgTwoSlice\n",
    "Find the minimal average of any slice containing at least two elements.\n",
    "\n",
    "- https://codility.com/programmers/task/min_avg_two_slice/\n",
    "- https://codility.com/demo/results/trainingZ5A2ED-2H7/ **100%**\n",
    "\n",
    "**discussion:**\n",
    "A slice of 4 is actually 2 slices of 2. If the 2nd half of the slice of 4 lowers the 1st half's average, the 1st half can be disregarded and only the 2nd half can be used alone. This is valid for any slice with a length > 3.\n",
    "A slice of length 3 can be necessary, for example with [0, 1, 0] where none of the subslices's averages (0.5) is lower than the  total average (0.33).\n",
    "Therefore, only slices of 2 and 3 should be considered.\n",
    "It then becomes very easy to achieve a complexity of O(N)."
   ]
  },
  {
   "cell_type": "code",
   "execution_count": 9,
   "metadata": {
    "collapsed": true
   },
   "outputs": [],
   "source": [
    "@printable\n",
    "def solution(A):\n",
    "    assert len(A) > 1\n",
    "    min_average = (A[0] + A[1]) / 2.0\n",
    "    min_index = 0\n",
    "    for i in range(len(A) - 1):\n",
    "        # 2 terms\n",
    "        sum_of_terms = A[i] + A[i + 1] \n",
    "        average = sum_of_terms / 2.0\n",
    "        if average < min_average:\n",
    "            min_average = average\n",
    "            min_index = i\n",
    "        # 3 terms\n",
    "        if i > len(A) - 3:\n",
    "            continue\n",
    "        sum_of_terms += A[i + 2]\n",
    "        average = sum_of_terms / 3.0\n",
    "        if average < min_average:\n",
    "            min_average = average\n",
    "            min_index = i\n",
    "    return min_index"
   ]
  },
  {
   "cell_type": "code",
   "execution_count": 10,
   "metadata": {
    "collapsed": false
   },
   "outputs": [
    {
     "name": "stdout",
     "output_type": "stream",
     "text": [
      "In:[4, 2, 2, 5, 1, 5, 8] Out:1\n",
      "In:[-4, -2, -2, -5, -1, -5, -8] Out:5\n",
      "In:[1, 1, 1, 1, 1, 1, 1, 1, .......... 1, 1, 1, 1, 0] Out:99998\n",
      "In:[-10000, -9999, -9998, -9..........8, 9999, 10000] Out:0\n",
      "In:[10000, 9999, 9998, 9997,.......... -9999, -10000] Out:19999\n",
      "In:[3, 3, 3, 3, 3, 3, 3, 3, .......... 3, 3, 3, 3, 3] Out:99\n",
      "In:[3, 3, 3, 3, 3, 3, 3, 3, .......... 3, 3, 3, 3, 3] Out:100\n"
     ]
    },
    {
     "data": {
      "text/plain": [
       "100"
      ]
     },
     "execution_count": 10,
     "metadata": {},
     "output_type": "execute_result"
    }
   ],
   "source": [
    "solution([4, 2, 2, 5, 1, 5, 8]) # example test\n",
    "solution([-4, -2, -2, -5, -1, -5, -8]) # all negatives\n",
    "solution([1] * 99999 + [0]) # bigger array\n",
    "solution([i - 10000 for i in range(20001)]) # bigger array\n",
    "solution([10000 - i for i in range(20001)]) # bigger array\n",
    "solution([3] * 100 + [2] + [3] * 200 ) # pos 99 ([..., 3, 2, 3, ...])\n",
    "solution([3] * 100 + [2]*2 + [3] * 200 ) # pos 100 ([..., 3, 2, 2, 3, ...])"
   ]
  },
  {
   "cell_type": "code",
   "execution_count": null,
   "metadata": {
    "collapsed": true
   },
   "outputs": [],
   "source": []
  }
 ],
 "metadata": {
  "kernelspec": {
   "display_name": "Python 2",
   "language": "python",
   "name": "python2"
  },
  "language_info": {
   "codemirror_mode": {
    "name": "ipython",
    "version": 2
   },
   "file_extension": ".py",
   "mimetype": "text/x-python",
   "name": "python",
   "nbconvert_exporter": "python",
   "pygments_lexer": "ipython2",
   "version": "2.7.11"
  }
 },
 "nbformat": 4,
 "nbformat_minor": 0
}
