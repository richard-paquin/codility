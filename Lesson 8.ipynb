{
 "cells": [
  {
   "cell_type": "markdown",
   "metadata": {},
   "source": [
    "# Lesson 8 - Leader\n",
    "https://codility.com/programmers/lessons/6/"
   ]
  },
  {
   "cell_type": "code",
   "execution_count": 1,
   "metadata": {
    "collapsed": true
   },
   "outputs": [],
   "source": [
    "from codility_print import printable"
   ]
  },
  {
   "cell_type": "markdown",
   "metadata": {},
   "source": [
    "## EquiLeader\n",
    "Find the index S such that the leaders of the sequences A[0], A[1], ..., A[S] and A[S + 1], A[S + 2], ..., A[N - 1] are the same.\n",
    "\n",
    "- https://codility.com/programmers/task/equi_leader/\n",
    "- https://codility.com/demo/results/trainingC5E9YT-5YY/ **100%**"
   ]
  },
  {
   "cell_type": "code",
   "execution_count": 2,
   "metadata": {
    "collapsed": true
   },
   "outputs": [],
   "source": [
    "@printable\n",
    "def solution(A):\n",
    "    #if both share the same leader, then it is also the leader of both\n",
    "    \n",
    "    # find candidate\n",
    "    candidate = -1\n",
    "    count = 0\n",
    "    for v in A:\n",
    "        if count == 0:\n",
    "            candidate = v\n",
    "        if v == candidate:\n",
    "            count += 1\n",
    "        else:\n",
    "            count -= 1\n",
    "    \n",
    "    # count candidate\n",
    "    total_leader_count = 0\n",
    "    for v in A:\n",
    "        if v == candidate:\n",
    "            total_leader_count += 1\n",
    "    \n",
    "    # no leader at all\n",
    "    if total_leader_count < len(A) / 2.0:\n",
    "        return 0\n",
    "    \n",
    "    leader = candidate\n",
    "    right = float(total_leader_count)\n",
    "    left = 0.0\n",
    "    indexes = 0\n",
    "    for i, v in enumerate(A):\n",
    "        if v == leader:\n",
    "            left += 1\n",
    "            right -= 1\n",
    "        if left > (i + 1) / 2.0 and right != 0 and right >= (len(A) - i) / 2.0:\n",
    "            indexes += 1\n",
    "            \n",
    "    return indexes        "
   ]
  },
  {
   "cell_type": "code",
   "execution_count": 3,
   "metadata": {
    "collapsed": false
   },
   "outputs": [
    {
     "name": "stdout",
     "output_type": "stream",
     "text": [
      "In:[4, 3, 4, 4, 4, 2] Out:2\n",
      "In:[0, 1, 2, 3, 4, 5, 5, 5, 5] Out:0\n",
      "In:[0, 1, 2, 3, 4, 5, 5, 5, 5, 5] Out:0\n",
      "In:[0] Out:0\n",
      "In:[0, 0] Out:1\n",
      "In:[0, 0, 0] Out:2\n",
      "In:[1, 0, 0, 0, 1] Out:0\n",
      "In:[1, 0, 0, 0, 0, 1] Out:1\n",
      "In:[1, 0, 0, 0, 0, 0, 1] Out:2\n",
      "In:[0, 0, 1] Out:0\n",
      "In:[0, 0, 0, 1] Out:1\n",
      "In:[0, 0, 0, 0, 1] Out:2\n",
      "In:[1, 0, 0] Out:0\n",
      "In:[1, 0, 0, 0] Out:1\n",
      "In:[1, 0, 0, 0, 0] Out:2\n"
     ]
    },
    {
     "data": {
      "text/plain": [
       "2"
      ]
     },
     "execution_count": 3,
     "metadata": {},
     "output_type": "execute_result"
    }
   ],
   "source": [
    "solution([4, 3, 4, 4, 4, 2])\n",
    "solution([x for x in range(5)] + [5]*4)\n",
    "solution([x for x in range(5)] + [5]*5)\n",
    "solution([0] * 1)\n",
    "solution([0] * 2)\n",
    "solution([0] * 3)\n",
    "solution([1] + [0] * 3 + [1])\n",
    "solution([1] + [0] * 4 + [1])\n",
    "solution([1] + [0] * 5 + [1])\n",
    "solution([0] * 2 + [1])\n",
    "solution([0] * 3 + [1])\n",
    "solution([0] * 4 + [1])\n",
    "solution([1] + [0] * 2)\n",
    "solution([1] + [0] * 3)\n",
    "solution([1] + [0] * 4)"
   ]
  },
  {
   "cell_type": "markdown",
   "metadata": {},
   "source": [
    "## Dominator\n",
    "Find an index of an array such that its value occurs at more than half of indices in the array.\n",
    "\n",
    "- https://codility.com/programmers/task/dominator/\n",
    "- https://codility.com/demo/results/trainingC5VXAA-QM6/ **100%**"
   ]
  },
  {
   "cell_type": "code",
   "execution_count": 4,
   "metadata": {
    "collapsed": true
   },
   "outputs": [],
   "source": [
    "@printable\n",
    "def solution(A):\n",
    "    count = 0\n",
    "    candidate = None\n",
    "    for v in A:\n",
    "        if count == 0:\n",
    "            candidate = v\n",
    "        if v == candidate:\n",
    "            count += 1\n",
    "        else:\n",
    "            count -= 1\n",
    "    \n",
    "    count = 0.0\n",
    "    for v in A:\n",
    "        if v == candidate:\n",
    "            count += 1\n",
    "    \n",
    "    if count <= len(A) / 2.0:\n",
    "        return -1\n",
    "    \n",
    "    for i, v in enumerate(A):\n",
    "        if v == candidate:\n",
    "            return i\n",
    "    \n",
    "    return -1"
   ]
  },
  {
   "cell_type": "code",
   "execution_count": 5,
   "metadata": {
    "collapsed": false
   },
   "outputs": [
    {
     "name": "stdout",
     "output_type": "stream",
     "text": [
      "In:[3, 4, 3, 2, 3, -1, 3, 3] Out:0\n",
      "In:[3, 4, 3, 2, 3, -1, 3, 2] Out:-1\n",
      "In:[] Out:-1\n",
      "In:[0, 1, 2, 3, 4, 5, 6, 7, .........., 50000, 50000] Out:-1\n",
      "In:[0, 1, 2, 3, 4, 5, 6, 7, .........., 49999, 49999] Out:49999\n",
      "In:[49999, 0, 1, 2, 3, 4, 5,.........., 49999, 49999] Out:0\n"
     ]
    },
    {
     "data": {
      "text/plain": [
       "0"
      ]
     },
     "execution_count": 5,
     "metadata": {},
     "output_type": "execute_result"
    }
   ],
   "source": [
    "solution([3, 4, 3, 2, 3, -1, 3, 3])\n",
    "solution([3, 4, 3, 2, 3, -1, 3, 2])\n",
    "solution([])\n",
    "solution([x for x in range(50000)] + [50000] * 50000)\n",
    "solution([x for x in range(49999)] + [49999] * 50000)\n",
    "solution([49999] + [x for x in range(50000)] + [49999] * 50000)"
   ]
  },
  {
   "cell_type": "code",
   "execution_count": null,
   "metadata": {
    "collapsed": true
   },
   "outputs": [],
   "source": []
  }
 ],
 "metadata": {
  "kernelspec": {
   "display_name": "Python 2",
   "language": "python",
   "name": "python2"
  },
  "language_info": {
   "codemirror_mode": {
    "name": "ipython",
    "version": 2
   },
   "file_extension": ".py",
   "mimetype": "text/x-python",
   "name": "python",
   "nbconvert_exporter": "python",
   "pygments_lexer": "ipython2",
   "version": "2.7.11"
  }
 },
 "nbformat": 4,
 "nbformat_minor": 0
}
