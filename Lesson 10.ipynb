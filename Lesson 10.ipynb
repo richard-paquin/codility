{
 "cells": [
  {
   "cell_type": "markdown",
   "metadata": {},
   "source": [
    "# Lesson 10 - Prime and composite numbers\n",
    "https://codility.com/programmers/lessons/8/"
   ]
  },
  {
   "cell_type": "code",
   "execution_count": 1,
   "metadata": {
    "collapsed": true
   },
   "outputs": [],
   "source": [
    "from codility_print import printable"
   ]
  },
  {
   "cell_type": "markdown",
   "metadata": {},
   "source": [
    "## MinPerimeterRectangle\n",
    "Find the minimal perimeter of any rectangle whose area equals N.\n",
    "\n",
    "- https://codility.com/programmers/task/min_perimeter_rectangle/\n",
    "- https://codility.com/demo/results/trainingXS6352-A8B/ **100%**"
   ]
  },
  {
   "cell_type": "code",
   "execution_count": 2,
   "metadata": {
    "collapsed": true
   },
   "outputs": [],
   "source": [
    "@printable\n",
    "def solution(N):\n",
    "    from math import sqrt\n",
    "    x = int(sqrt(N))\n",
    "    for i in xrange(x, 0, -1):\n",
    "        if N % i == 0:\n",
    "            return 2 * (i + N / i)\n",
    "    assert False"
   ]
  },
  {
   "cell_type": "code",
   "execution_count": 3,
   "metadata": {
    "collapsed": false
   },
   "outputs": [
    {
     "name": "stdout",
     "output_type": "stream",
     "text": [
      "In:30 Out:22\n",
      "In:31 Out:64\n",
      "In:1000000000 Out:126500\n",
      "In:25 Out:20\n",
      "In:1 Out:4\n",
      "In:2 Out:6\n",
      "In:48 Out:28\n"
     ]
    },
    {
     "data": {
      "text/plain": [
       "28"
      ]
     },
     "execution_count": 3,
     "metadata": {},
     "output_type": "execute_result"
    }
   ],
   "source": [
    "solution(30)\n",
    "solution(31)\n",
    "solution(1000000000)\n",
    "solution(25)\n",
    "solution(1)\n",
    "solution(2)\n",
    "solution(48)"
   ]
  },
  {
   "cell_type": "markdown",
   "metadata": {},
   "source": [
    "## CountFactors\n",
    "Count factors of given number n.\n",
    "\n",
    "- https://codility.com/programmers/task/count_factors/\n",
    "- https://codility.com/demo/results/training2YY9GU-N2E/ **35%** (oh, that's nasty, let's blame it on tiredness)\n",
    "- https://codility.com/demo/results/trainingZBBKJQ-HE9/ **100%** better."
   ]
  },
  {
   "cell_type": "code",
   "execution_count": 4,
   "metadata": {
    "collapsed": true
   },
   "outputs": [],
   "source": [
    "@printable\n",
    "def solution(N):\n",
    "    from math import sqrt\n",
    "    if N < 3: \n",
    "        return N\n",
    "    count = 0\n",
    "    i = 1\n",
    "    s = int(sqrt(N))\n",
    "    while i <= s:\n",
    "        if N % i == 0:\n",
    "            count += 2\n",
    "        i += 1\n",
    "    if s * s == N:\n",
    "        count -= 1\n",
    "    return count"
   ]
  },
  {
   "cell_type": "code",
   "execution_count": 5,
   "metadata": {
    "collapsed": false
   },
   "outputs": [
    {
     "name": "stdout",
     "output_type": "stream",
     "text": [
      "In:24 Out:8\n",
      "In:1 Out:1\n",
      "In:2 Out:2\n",
      "In:10 Out:4\n",
      "In:15 Out:4\n",
      "In:25 Out:3\n",
      "In:13 Out:2\n",
      "In:2147483647 Out:2\n"
     ]
    },
    {
     "data": {
      "text/plain": [
       "2"
      ]
     },
     "execution_count": 5,
     "metadata": {},
     "output_type": "execute_result"
    }
   ],
   "source": [
    "solution(24)\n",
    "solution(1)\n",
    "solution(2)\n",
    "solution(10)\n",
    "solution(15)\n",
    "solution(25)\n",
    "solution(13)\n",
    "solution(2147483647)"
   ]
  },
  {
   "cell_type": "markdown",
   "metadata": {},
   "source": [
    "## Peaks\n",
    "Divide an array into the maximum number of same-sized blocks, each of which should contain an index P such that A[P - 1] < A[P] > A[P + 1].\n",
    "\n",
    "- https://codility.com/programmers/task/peaks/\n",
    "- https://codility.com/demo/results/trainingHJC596-SQ2/ **100%** (ugly, but works)\n",
    "> when rewriting, I had many problems with the following case:\n",
    "```\n",
    "solution([0, 1, 0] * 4 + [0])\n",
    "```\n",
    "because my previous test cases didn't properly test the 2nd loop.\n",
    "- https://codility.com/demo/results/trainingHJC596-SQ2/ **100%** (I at least got rid of the 1st loop)"
   ]
  },
  {
   "cell_type": "code",
   "execution_count": 8,
   "metadata": {
    "collapsed": true
   },
   "outputs": [],
   "source": [
    "#1 first and last can't be peaks\n",
    "\n",
    "@printable\n",
    "def solution(A):\n",
    "    N = len(A)\n",
    "    if N < 3:\n",
    "        return 0\n",
    "    \n",
    "    # create pref_sum\n",
    "    pref_sum = [0] * (N + 1)\n",
    "    for P in xrange(1, N - 1): #1\n",
    "        pref_sum[P + 1] = pref_sum[P]\n",
    "        if A[P - 1] < A[P] > A[P + 1]:            \n",
    "            pref_sum[P + 1] += 1\n",
    "    pref_sum[-1] = pref_sum[-2] #last item\n",
    "    if pref_sum[-1] < 2:\n",
    "        return pref_sum[-1]\n",
    "    \n",
    "    for block_length in xrange(2, N):\n",
    "        if N % block_length!= 0:\n",
    "            continue\n",
    "        block_count = N / block_length\n",
    "        left_index = 0\n",
    "        found = True\n",
    "        # print '%d = length(%d) * count(%d)' % (N, block_length, block_count)\n",
    "        while left_index < N:\n",
    "            right_index = left_index + block_length\n",
    "            # print '  (%d, %d): %d => %d' % (left_index, right_index, pref_sum[left_index], pref_sum[right_index])\n",
    "            if pref_sum[left_index] == pref_sum[right_index]:\n",
    "                found = False\n",
    "                break\n",
    "            left_index += block_length\n",
    "        if found:\n",
    "            return block_count\n",
    "    return 0"
   ]
  },
  {
   "cell_type": "code",
   "execution_count": 11,
   "metadata": {
    "collapsed": false
   },
   "outputs": [
    {
     "name": "stdout",
     "output_type": "stream",
     "text": [
      "In:[0, 1, 0, 0, 1, 0] Out:2\n",
      "In:[0, 1, 0, 1, 0, 1] Out:2\n",
      "In:[1, 0, 1, 0, 1, 0] Out:2\n",
      "In:[0, 1, 0, 0, 1, 0, 0, 1, 0, 0, 1, 0] Out:4\n",
      "In:[0, 1, 0, 0, 1, 0, 0, 1, 0, 0, 1, 0, 0] Out:0\n",
      "In:[0, 1, 2, 3, 0, 1, 2, 3, 0, 1, 2, 3] Out:2\n"
     ]
    },
    {
     "data": {
      "text/plain": [
       "2"
      ]
     },
     "execution_count": 11,
     "metadata": {},
     "output_type": "execute_result"
    }
   ],
   "source": [
    "solution([0, 1, 0, 0, 1, 0])\n",
    "solution([0, 1, 0, 1, 0, 1])\n",
    "solution([1, 0, 1, 0, 1, 0])\n",
    "#solution([0, 0, 1, 0, 1, 0])\n",
    "#solution([0, 1, 0, 1, 0, 0])\n",
    "#solution([0, 1, 0, 1, 1, 1])\n",
    "#solution([1, 1, 1, 0, 1, 0])\n",
    "#solution([0, 1, 0])\n",
    "#solution([0, 1, 0] * 2)\n",
    "solution([0, 1, 0] * 4)\n",
    "solution([0, 1, 0] * 4 + [0])\n",
    "solution([0, 1, 2, 3] * 3)\n",
    "#solution([1, 2, 3, 4, 3, 4, 1, 2, 3, 4, 6, 2])\n",
    "#solution([0, 1, 2, 3, 2])\n",
    "#solution([0, 1, 2, 3])\n",
    "#solution([x for x in xrange(1, 31)] + [0])\n",
    "#solution([0, 3, 2, 1] * 500)\n",
    "#solution([0, 1, 2, 3, 0] * 500)"
   ]
  },
  {
   "cell_type": "markdown",
   "metadata": {},
   "source": [
    "## Flags\n",
    "Find the maximum number of flags that can be set on mountain peaks.\n",
    "\n",
    "- https://codility.com/programmers/task/flags/\n",
    "- "
   ]
  },
  {
   "cell_type": "code",
   "execution_count": 13,
   "metadata": {
    "collapsed": false
   },
   "outputs": [],
   "source": [
    "@printable\n",
    "def solution(A):\n",
    "    # write your code in Python 2.7\n",
    "    pass"
   ]
  },
  {
   "cell_type": "code",
   "execution_count": 14,
   "metadata": {
    "collapsed": false
   },
   "outputs": [
    {
     "name": "stdout",
     "output_type": "stream",
     "text": [
      "In:[1, 5, 3, 4, 3, 4, 1, 2, 3, 4, 6, 2] Out:None\n"
     ]
    }
   ],
   "source": [
    "solution([1, 5, 3, 4, 3, 4, 1, 2, 3, 4, 6, 2]) #demo = 9"
   ]
  },
  {
   "cell_type": "code",
   "execution_count": null,
   "metadata": {
    "collapsed": true
   },
   "outputs": [],
   "source": []
  }
 ],
 "metadata": {
  "kernelspec": {
   "display_name": "Python 2",
   "language": "python",
   "name": "python2"
  },
  "language_info": {
   "codemirror_mode": {
    "name": "ipython",
    "version": 2
   },
   "file_extension": ".py",
   "mimetype": "text/x-python",
   "name": "python",
   "nbconvert_exporter": "python",
   "pygments_lexer": "ipython2",
   "version": "2.7.11"
  }
 },
 "nbformat": 4,
 "nbformat_minor": 0
}
